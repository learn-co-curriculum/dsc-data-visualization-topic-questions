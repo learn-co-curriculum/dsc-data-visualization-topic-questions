{
 "cells": [
  {
   "cell_type": "markdown",
   "metadata": {
    "nbgrader": {
     "grade": false,
     "grade_id": "57ff32044716927878faacfa96f306ad",
     "locked": true,
     "schema_version": 3,
     "solution": false,
     "task": false
    }
   },
   "source": [
    "# Data Visualization Checkpoint\n",
    "\n",
    "This checkpoint is designed to test your understanding of Data Visualization using Matplotlib and Seaborn.\n",
    "\n",
    "Specifically, this checkpoint will cover:\n",
    "\n",
    "* Importing data visualization modules\n",
    "* Using plt.subplots\n",
    "* Generating a sorted bar plot\n",
    "* Interpreting a visualization\n",
    "* Applying visual customizations \n",
    "\n",
    "## Your Task: Analyze the Special Attack Strength in a Pokemon Dataset.\n",
    "\n",
    "### Data Understanding\n",
    "\n",
    "In this repository under the file path `data/pokemon.csv` there is a CSV file containing information about  pokemon strength. \n",
    "\n",
    "The features of interest for this analysis will be:\n",
    "\n",
    "`Special Attack`: The special attack power of a pokemon. This measures the strength of a pokemon's special abilities.\n",
    "\n",
    "`Total Strength`: The sum of every strength statistic given to a pokemon.\n",
    "\n",
    "`Type`: A pokemon's type determines their weaknesses and their special abilities.\n",
    "\n",
    "`Name`: The name of a pokemon.\n",
    "\n",
    "### Requirements\n",
    "\n",
    "#### 1. Import the matplotlib pyplot module using the standard alias\n",
    "\n",
    "#### 2. Generate a sorted bar plot\n",
    "\n",
    "#### 3. Interpret a visualization\n",
    "\n",
    "#### 4. Import seaborn using the standard alias\n",
    "\n",
    "#### 5. Use seaborn's `boxplot`\n",
    "\n",
    "\n",
    "### Setup\n",
    "\n",
    "This notebook requires you use `plt.subplots` and that you assign matplotlib figure and axis variables to specific variable names.\n",
    "\n",
    "**For example:**\n",
    "\n",
    "Given the following prompt:\n",
    "\n",
    "\n",
    "\n",
    ">➡️**name the figure variable `plot_first_fig`**\n",
    "\n",
    ">➡️ **name the axis variable `plot_first_ax`.**\n",
    "\n",
    "\n",
    "The correct code would be as follows:\n",
    "\n",
    "```python\n",
    "plot_first_fig, plot_first_ax = plt.subplots()\n",
    "```\n",
    "\n",
    "In the cell below we import pandas, open up the CSV file as a dataframe called `df`, and drop duplicates."
   ]
  },
  {
   "cell_type": "code",
   "execution_count": 1,
   "metadata": {
    "nbgrader": {
     "grade": false,
     "grade_id": "2f7986769f5be38231c70abf271e7ed1",
     "locked": true,
     "schema_version": 3,
     "solution": false,
     "task": false
    }
   },
   "outputs": [
    {
     "data": {
      "text/html": [
       "<div>\n",
       "<style scoped>\n",
       "    .dataframe tbody tr th:only-of-type {\n",
       "        vertical-align: middle;\n",
       "    }\n",
       "\n",
       "    .dataframe tbody tr th {\n",
       "        vertical-align: top;\n",
       "    }\n",
       "\n",
       "    .dataframe thead th {\n",
       "        text-align: right;\n",
       "    }\n",
       "</style>\n",
       "<table border=\"1\" class=\"dataframe\">\n",
       "  <thead>\n",
       "    <tr style=\"text-align: right;\">\n",
       "      <th></th>\n",
       "      <th>Number</th>\n",
       "      <th>Name</th>\n",
       "      <th>Type</th>\n",
       "      <th>Total Strength</th>\n",
       "      <th>HP</th>\n",
       "      <th>Attack</th>\n",
       "      <th>Defense</th>\n",
       "      <th>Special Attack</th>\n",
       "      <th>Special Defense</th>\n",
       "      <th>Speed</th>\n",
       "    </tr>\n",
       "  </thead>\n",
       "  <tbody>\n",
       "    <tr>\n",
       "      <th>0</th>\n",
       "      <td>001</td>\n",
       "      <td>Bulbasaur</td>\n",
       "      <td>GRASS</td>\n",
       "      <td>318</td>\n",
       "      <td>45</td>\n",
       "      <td>49</td>\n",
       "      <td>49</td>\n",
       "      <td>65</td>\n",
       "      <td>65</td>\n",
       "      <td>45</td>\n",
       "    </tr>\n",
       "    <tr>\n",
       "      <th>2</th>\n",
       "      <td>002</td>\n",
       "      <td>Ivysaur</td>\n",
       "      <td>GRASS</td>\n",
       "      <td>405</td>\n",
       "      <td>60</td>\n",
       "      <td>62</td>\n",
       "      <td>63</td>\n",
       "      <td>80</td>\n",
       "      <td>80</td>\n",
       "      <td>60</td>\n",
       "    </tr>\n",
       "    <tr>\n",
       "      <th>4</th>\n",
       "      <td>003</td>\n",
       "      <td>Venusaur</td>\n",
       "      <td>GRASS</td>\n",
       "      <td>525</td>\n",
       "      <td>80</td>\n",
       "      <td>82</td>\n",
       "      <td>83</td>\n",
       "      <td>100</td>\n",
       "      <td>100</td>\n",
       "      <td>80</td>\n",
       "    </tr>\n",
       "    <tr>\n",
       "      <th>6</th>\n",
       "      <td>003.1</td>\n",
       "      <td>Mega Venusaur</td>\n",
       "      <td>GRASS</td>\n",
       "      <td>625</td>\n",
       "      <td>80</td>\n",
       "      <td>100</td>\n",
       "      <td>123</td>\n",
       "      <td>122</td>\n",
       "      <td>120</td>\n",
       "      <td>80</td>\n",
       "    </tr>\n",
       "    <tr>\n",
       "      <th>8</th>\n",
       "      <td>004</td>\n",
       "      <td>Charmander</td>\n",
       "      <td>FIRE</td>\n",
       "      <td>309</td>\n",
       "      <td>39</td>\n",
       "      <td>52</td>\n",
       "      <td>43</td>\n",
       "      <td>60</td>\n",
       "      <td>50</td>\n",
       "      <td>65</td>\n",
       "    </tr>\n",
       "  </tbody>\n",
       "</table>\n",
       "</div>"
      ],
      "text/plain": [
       "   Number           Name   Type  Total Strength  HP  Attack  Defense  \\\n",
       "0     001      Bulbasaur  GRASS             318  45      49       49   \n",
       "2     002        Ivysaur  GRASS             405  60      62       63   \n",
       "4     003       Venusaur  GRASS             525  80      82       83   \n",
       "6   003.1  Mega Venusaur  GRASS             625  80     100      123   \n",
       "8     004     Charmander   FIRE             309  39      52       43   \n",
       "\n",
       "   Special Attack  Special Defense  Speed  \n",
       "0              65               65     45  \n",
       "2              80               80     60  \n",
       "4             100              100     80  \n",
       "6             122              120     80  \n",
       "8              60               50     65  "
      ]
     },
     "execution_count": 1,
     "metadata": {},
     "output_type": "execute_result"
    }
   ],
   "source": [
    "# Run this cell unchanged\n",
    "import pandas as pd\n",
    "df = pd.read_csv(\"data/pokemon.csv\").drop_duplicates('Name')\n",
    "df.head()"
   ]
  },
  {
   "cell_type": "markdown",
   "metadata": {
    "nbgrader": {
     "grade": false,
     "grade_id": "cell-c85ef5a12d99d051",
     "locked": true,
     "schema_version": 3,
     "solution": false,
     "task": false
    }
   },
   "source": [
    "## Task 1 - Import the matplotlib pyplot module using the standard alias."
   ]
  },
  {
   "cell_type": "code",
   "execution_count": 2,
   "metadata": {
    "nbgrader": {
     "grade": true,
     "grade_id": "cell-07dfaef1152cae60",
     "locked": false,
     "points": 0,
     "schema_version": 3,
     "solution": true,
     "task": false
    }
   },
   "outputs": [],
   "source": [
    "### BEGIN SOLUTION\n",
    "import matplotlib.pyplot as plt\n",
    "### END SOLUTION"
   ]
  },
  {
   "cell_type": "code",
   "execution_count": 3,
   "metadata": {
    "nbgrader": {
     "grade": true,
     "grade_id": "cell-55b7992a96a850bf",
     "locked": true,
     "points": 1,
     "schema_version": 3,
     "solution": false,
     "task": false
    }
   },
   "outputs": [
    {
     "name": "stdout",
     "output_type": "stream",
     "text": [
      "=====================================================================\n",
      "✅ matplotlib was imported into the notebook.\n",
      "✅ matplotlit.pyplot was imported with the appropriate alias.\n",
      "=====================================================================\n",
      "Autograded Score:\n"
     ]
    },
    {
     "data": {
      "text/plain": [
       "1.0"
      ]
     },
     "execution_count": 3,
     "metadata": {},
     "output_type": "execute_result"
    }
   ],
   "source": [
    "### BEGIN HIDDEN TESTS\n",
    "# PUT ALL WORK FOR THE ABOVE QUESTION ABOVE THIS CELL\n",
    "# THIS UNALTERABLE CELL CONTAINS HIDDEN TESTS\n",
    "print('=====================================================================')    \n",
    "score = 0.1\n",
    "# Checking for matplotlib\n",
    "import sys\n",
    "if \"matplotlib\" in sys.modules:\n",
    "    score += .5\n",
    "    print('✅ matplotlib was imported into the notebook.')\n",
    "else:\n",
    "    print('🚫 matplotlit was not imported into the notebook.')\n",
    "    \n",
    "# Checking that it was imported with the appropriate alias\n",
    "if type(pd.__version__) == str:\n",
    "    score += .5\n",
    "    print('✅ matplotlit.pyplot was imported with the appropriate alias.')\n",
    "else:\n",
    "    print('🚫 matplotlit.pyplot was not imported with the appropriate alias.')\n",
    "    \n",
    "if score > 0.1:\n",
    "    score -= 0.1\n",
    "print('=====================================================================')    \n",
    "print('Autograded Score:')    \n",
    "score\n",
    "### END HIDDEN TESTS"
   ]
  },
  {
   "cell_type": "markdown",
   "metadata": {
    "nbgrader": {
     "grade": false,
     "grade_id": "cell-383262cd750bdd5f",
     "locked": true,
     "schema_version": 3,
     "solution": false,
     "task": false
    }
   },
   "source": [
    "In the cell below, we create a column called `spattack_total` that calculates how much a pokemon's `Special Attack` strength contributes to their `Total Strength`."
   ]
  },
  {
   "cell_type": "code",
   "execution_count": 4,
   "metadata": {
    "nbgrader": {
     "grade": false,
     "grade_id": "cell-4b65f31e99e95670",
     "locked": true,
     "schema_version": 3,
     "solution": false,
     "task": false
    }
   },
   "outputs": [
    {
     "data": {
      "text/html": [
       "<div>\n",
       "<style scoped>\n",
       "    .dataframe tbody tr th:only-of-type {\n",
       "        vertical-align: middle;\n",
       "    }\n",
       "\n",
       "    .dataframe tbody tr th {\n",
       "        vertical-align: top;\n",
       "    }\n",
       "\n",
       "    .dataframe thead th {\n",
       "        text-align: right;\n",
       "    }\n",
       "</style>\n",
       "<table border=\"1\" class=\"dataframe\">\n",
       "  <thead>\n",
       "    <tr style=\"text-align: right;\">\n",
       "      <th></th>\n",
       "      <th>Number</th>\n",
       "      <th>Name</th>\n",
       "      <th>Type</th>\n",
       "      <th>Total Strength</th>\n",
       "      <th>HP</th>\n",
       "      <th>Attack</th>\n",
       "      <th>Defense</th>\n",
       "      <th>Special Attack</th>\n",
       "      <th>Special Defense</th>\n",
       "      <th>Speed</th>\n",
       "      <th>spattack_total</th>\n",
       "    </tr>\n",
       "  </thead>\n",
       "  <tbody>\n",
       "    <tr>\n",
       "      <th>0</th>\n",
       "      <td>001</td>\n",
       "      <td>Bulbasaur</td>\n",
       "      <td>GRASS</td>\n",
       "      <td>318</td>\n",
       "      <td>45</td>\n",
       "      <td>49</td>\n",
       "      <td>49</td>\n",
       "      <td>65</td>\n",
       "      <td>65</td>\n",
       "      <td>45</td>\n",
       "      <td>0.204403</td>\n",
       "    </tr>\n",
       "    <tr>\n",
       "      <th>2</th>\n",
       "      <td>002</td>\n",
       "      <td>Ivysaur</td>\n",
       "      <td>GRASS</td>\n",
       "      <td>405</td>\n",
       "      <td>60</td>\n",
       "      <td>62</td>\n",
       "      <td>63</td>\n",
       "      <td>80</td>\n",
       "      <td>80</td>\n",
       "      <td>60</td>\n",
       "      <td>0.197531</td>\n",
       "    </tr>\n",
       "    <tr>\n",
       "      <th>4</th>\n",
       "      <td>003</td>\n",
       "      <td>Venusaur</td>\n",
       "      <td>GRASS</td>\n",
       "      <td>525</td>\n",
       "      <td>80</td>\n",
       "      <td>82</td>\n",
       "      <td>83</td>\n",
       "      <td>100</td>\n",
       "      <td>100</td>\n",
       "      <td>80</td>\n",
       "      <td>0.190476</td>\n",
       "    </tr>\n",
       "    <tr>\n",
       "      <th>6</th>\n",
       "      <td>003.1</td>\n",
       "      <td>Mega Venusaur</td>\n",
       "      <td>GRASS</td>\n",
       "      <td>625</td>\n",
       "      <td>80</td>\n",
       "      <td>100</td>\n",
       "      <td>123</td>\n",
       "      <td>122</td>\n",
       "      <td>120</td>\n",
       "      <td>80</td>\n",
       "      <td>0.195200</td>\n",
       "    </tr>\n",
       "    <tr>\n",
       "      <th>8</th>\n",
       "      <td>004</td>\n",
       "      <td>Charmander</td>\n",
       "      <td>FIRE</td>\n",
       "      <td>309</td>\n",
       "      <td>39</td>\n",
       "      <td>52</td>\n",
       "      <td>43</td>\n",
       "      <td>60</td>\n",
       "      <td>50</td>\n",
       "      <td>65</td>\n",
       "      <td>0.194175</td>\n",
       "    </tr>\n",
       "  </tbody>\n",
       "</table>\n",
       "</div>"
      ],
      "text/plain": [
       "   Number           Name   Type  Total Strength  HP  Attack  Defense  \\\n",
       "0     001      Bulbasaur  GRASS             318  45      49       49   \n",
       "2     002        Ivysaur  GRASS             405  60      62       63   \n",
       "4     003       Venusaur  GRASS             525  80      82       83   \n",
       "6   003.1  Mega Venusaur  GRASS             625  80     100      123   \n",
       "8     004     Charmander   FIRE             309  39      52       43   \n",
       "\n",
       "   Special Attack  Special Defense  Speed  spattack_total  \n",
       "0              65               65     45        0.204403  \n",
       "2              80               80     60        0.197531  \n",
       "4             100              100     80        0.190476  \n",
       "6             122              120     80        0.195200  \n",
       "8              60               50     65        0.194175  "
      ]
     },
     "execution_count": 4,
     "metadata": {},
     "output_type": "execute_result"
    }
   ],
   "source": [
    "df['spattack_total'] = df['Special Attack']/df['Total Strength']\n",
    "df.head()"
   ]
  },
  {
   "cell_type": "markdown",
   "metadata": {},
   "source": [
    "## Task 2 - Generate a sorted bar plot\n",
    "\n",
    "In the cell below, find the ten pokemon with the highest `spattack_total`, and visualize their `spattack_total` data as a sorted bar plot.\n",
    "\n",
    "➡️ **name the figure variable `plot_one_fig`**\n",
    "\n",
    "➡️ **name the axis variable `plot_one_ax`.**\n",
    "\n",
    "The visualization should have the following customizations:\n",
    "1. A figsize set to `(15,6)`\n",
    "2. A title set to `'Highest Special Attack Percentage'`\n",
    "3. A ylabel set to `'Special Attack Percentage'`\n",
    "4. An xlabel set to `'Pokemon Name'`\n",
    "\n",
    "**Below is an example of what your visualization should look like.**\n",
    "> *Note: The displayed visualization has adjusted the fontsize and customized the xticklabels. These settings will not be tested.*\n",
    "\n",
    "![](index_files/plot_one.png)"
   ]
  },
  {
   "cell_type": "code",
   "execution_count": 5,
   "metadata": {
    "nbgrader": {
     "grade": true,
     "grade_id": "cell-6b6ec459630c2111",
     "locked": false,
     "points": 0,
     "schema_version": 3,
     "solution": true,
     "task": false
    }
   },
   "outputs": [
    {
     "data": {
      "image/png": "[encoded data removed]",
      "text/plain": [
       "<Figure size 1080x432 with 1 Axes>"
      ]
     },
     "metadata": {
      "needs_background": "light"
     },
     "output_type": "display_data"
    }
   ],
   "source": [
    "### BEGIN SOLUTION\n",
    "top_ten_attack = df.sort_values('spattack_total', ascending=False).iloc[:10]\n",
    "plot_one_fig, plot_one_ax = plt.subplots(figsize=(15,6))\n",
    "plot_one_ax.bar(top_ten_attack.Name.str.replace(' ', '\\n'), top_ten_attack.spattack_total)\n",
    "plot_one_ax.tick_params(axis='x', labelsize=15)\n",
    "plot_one_ax.set_title('Highest Special Attack Percentage', fontsize=30)\n",
    "plot_one_ax.set_ylabel('Special Attack Percentage', fontsize=20)\n",
    "plot_one_ax.set_xlabel('Pokemon Name', fontsize=20)\n",
    "plot_one_fig.tight_layout()\n",
    "plot_one_fig.savefig('index_files/plot_one.png')\n",
    "### END SOLUTION"
   ]
  },
  {
   "cell_type": "code",
   "execution_count": 6,
   "metadata": {
    "nbgrader": {
     "grade": true,
     "grade_id": "cell-5e9968d981b3885d",
     "locked": true,
     "points": 1,
     "schema_version": 3,
     "solution": false,
     "task": false
    }
   },
   "outputs": [
    {
     "name": "stdout",
     "output_type": "stream",
     "text": [
      "===================================================\n",
      "✅ Visualization width is set correctly\n",
      "✅ Visualization height is set correctly\n",
      "✅ title is set correctly\n",
      "✅ xlabel is set correctly\n",
      "✅ xlabel is set correctly\n",
      "✅ The data was sorted correctly.\n",
      "===================================================\n",
      "Autograded Score\n"
     ]
    },
    {
     "data": {
      "text/plain": [
       "1.0"
      ]
     },
     "execution_count": 6,
     "metadata": {},
     "output_type": "execute_result"
    }
   ],
   "source": [
    "import matplotlib\n",
    "plot_one_ax_type = type(plot_one_ax)\n",
    "plot_one_fig_type = type(plot_one_fig)\n",
    "\n",
    "# plot_one_ax should be an ax from plt.subplots\n",
    "assert issubclass(plot_one_ax_type, matplotlib.axes.SubplotBase)\n",
    "# plot_one_fig should be a figure from plt.subplots\n",
    "assert issubclass(plot_one_fig_type, matplotlib.figure.Figure)\n",
    "# PUT ALL WORK FOR THE ABOVE QUESTION ABOVE THIS CELL\n",
    "# THIS UNALTERABLE CELL CONTAINS HIDDEN TESTS\n",
    "### BEGIN HIDDEN TESTS \n",
    "score = 0.1\n",
    "\n",
    "# Initialize the desired settings\n",
    "width = 15\n",
    "height = 6\n",
    "title = 'Highest Special Attack Percentage'\n",
    "xlabel = 'Pokemon Name'\n",
    "ylabel = 'Special Attack Percentage'\n",
    "\n",
    "\n",
    "# Tests\n",
    "def test_width(fig, width):\n",
    "    \"\"\"\n",
    "    Tests whether or not a matplotlib figure has a provided width\n",
    "    ––––––––––––––––––––––––––––––––––––––––––––––––––––––––––––––\n",
    "    ARGUMENTS:\n",
    "    \n",
    "    fig   -  Matplotlib figure object\n",
    "    width -  integer\n",
    "    –––––––––––––––––––––––––––––––––––––––––––––––––––––––––––––-\n",
    "    RETURNS:\n",
    "    \n",
    "    True if the figure width matches argument width.\n",
    "    None if figure width doesn't match argument width.\n",
    "    –––––––––––––––––––––––––––––––––––––––––––––––––––––––––––––-\n",
    "    \"\"\"\n",
    "    if fig.get_figwidth() == width:\n",
    "        print('✅ Visualization width is set correctly')\n",
    "        return True\n",
    "    else:\n",
    "        print(f'🚫 Visualization height = {fig.get_figwidth()}\\n   but should be {width}')\n",
    "        \n",
    "def test_height(fig, height):\n",
    "    \"\"\"\n",
    "    Tests whether or not a matplotlib figure has a provided height\n",
    "    ––––––––––––––––––––––––––––––––––––––––––––––––––––––––––––––\n",
    "    ARGUMENTS:\n",
    "    \n",
    "    fig    -  Matplotlib figure object\n",
    "    height -  integer\n",
    "    –––––––––––––––––––––––––––––––––––––––––––––––––––––––––––––-\n",
    "    RETURNS:\n",
    "    \n",
    "    True if the figure height matches argument height.\n",
    "    None if figure height doesn't match argument height.\n",
    "    –––––––––––––––––––––––––––––––––––––––––––––––––––––––––––––-\n",
    "    \"\"\"\n",
    "    if fig.get_figheight() == height:\n",
    "        print('✅ Visualization height is set correctly')\n",
    "        return True\n",
    "    else:\n",
    "        print(f'🚫 Visualization height = {fig.get_figheight()}\\n   but should be {height}')\n",
    "\n",
    "def test_title(ax, title):\n",
    "    \"\"\"\n",
    "    Tests whether or not a matplotlib ax object has a provided title\n",
    "    ––––––––––––––––––––––––––––––––––––––––––––––––––––––––––––––––\n",
    "    ARGUMENTS:\n",
    "    \n",
    "    ax    -  Matplotlib ax object\n",
    "    title -  string\n",
    "    ––––––––––––––––––––––––––––––––––––––––––––––––––––––––––––––––\n",
    "    RETURNS:\n",
    "    \n",
    "    True if the ax title matches argument title.\n",
    "    None if ax title doesn't match argument title.\n",
    "    ––––––––––––––––––––––––––––––––––––––––––––––––––––––––––––––––\n",
    "    \"\"\"\n",
    "    if ax.title.get_text() == title:\n",
    "        print('✅ title is set correctly')\n",
    "        return True\n",
    "    else:\n",
    "        print(f'🚫 title = \"{ax.title.get_text()}\"\\n   but should be \"{title}\"')\n",
    "\n",
    "def test_xlabel(ax, xlabel):\n",
    "    \"\"\"\n",
    "    Tests whether or not a matplotlib ax object has a provided xlabel\n",
    "    –––––––––––––––––––––––––––––––––––––––––––––––––––––––––––––––––\n",
    "    ARGUMENTS:\n",
    "    \n",
    "    ax     -  Matplotlib ax object\n",
    "    xlabel -  string\n",
    "    –––––––––––––––––––––––––––––––––––––––––––––––––––––––––––––––––\n",
    "    RETURNS:\n",
    "    \n",
    "    True if the ax xlabel matches argument xlabel.\n",
    "    None if ax xlabel doesn't match argument xlabel.\n",
    "    –––––––––––––––––––––––––––––––––––––––––––––––––––––––––––––––––\n",
    "    \"\"\"\n",
    "    if ax.get_xlabel() == xlabel:\n",
    "        print('✅ xlabel is set correctly')\n",
    "        return True\n",
    "    else:\n",
    "        print(f'🚫 xlabel = \"{ax.get_xlabel()}\"\\n   but should be \"{xlabel}\"')\n",
    "\n",
    "def test_ylabel(ax, ylabel):\n",
    "    \"\"\"\n",
    "    Tests whether or not a matplotlib ax object has a provided ylabel\n",
    "    –––––––––––––––––––––––––––––––––––––––––––––––––––––––––––––––––\n",
    "    ARGUMENTS:\n",
    "    \n",
    "    ax     -  Matplotlib ax object\n",
    "    ylabel -  string\n",
    "    –––––––––––––––––––––––––––––––––––––––––––––––––––––––––––––––––\n",
    "    RETURNS:\n",
    "    \n",
    "    True if the ax ylabel matches argument ylabel.\n",
    "    None if ax ylabel doesn't match argument ylabel.\n",
    "    –––––––––––––––––––––––––––––––––––––––––––––––––––––––––––––––––\n",
    "    \"\"\"\n",
    "    if ax.get_ylabel() == ylabel:\n",
    "        print('✅ xlabel is set correctly')\n",
    "        return True\n",
    "    else:\n",
    "        print(f'🚫 xlabel = \"{ax.get_ylabel()}\"\\n   but should be \"{ylabel}\"')  \n",
    "        \n",
    "def test_xtick_labels(ax):\n",
    "    \"\"\"\n",
    "    Tests whether or not a matplotlib ax object has the correct order\n",
    "    ––––––––––––––––––––––––––––––––––––––––––––––––––––––––––––––––––––––\n",
    "    ARGUMENTS:\n",
    "    \n",
    "    ax          -  Matplotlib ax object\n",
    "    ––––––––––––––––––––––––––––––––––––––––––––––––––––––––––––––––––––––\n",
    "    RETURNS:\n",
    "    \n",
    "    True if the ax xticklabels are sorted correctly\n",
    "    None if ax xticklabels are sorted incorrectly\n",
    "    ––––––––––––––––––––––––––––––––––––––––––––––––––––––––––––––––––––––\n",
    "    \"\"\"\n",
    "    labels = [_.get_text() for _ in ax.get_xticklabels()]\n",
    "\n",
    "    if 'solosis' == labels[0].lower():\n",
    "        if 'abra' == labels[1].lower():\n",
    "            if 'haunter' == labels[-1].lower():\n",
    "                print('✅ The data was sorted correctly.')\n",
    "                return True\n",
    "            \n",
    "    print('🚫 The data is not sorted or contains incorrect observations.')\n",
    "    \n",
    "            \n",
    "    \n",
    "\n",
    "# Run tests\n",
    "print('===================================================')    \n",
    "if test_width(plot_one_fig, width):\n",
    "    score += 1/6\n",
    "if test_height(plot_one_fig, height):\n",
    "    score += 1/6\n",
    "if test_title(plot_one_ax, title):\n",
    "    score += 1/6\n",
    "if test_xlabel(plot_one_ax, xlabel):\n",
    "    score += 1/6\n",
    "if test_ylabel(plot_one_ax, ylabel):\n",
    "    score += 1/6\n",
    "if test_xtick_labels(plot_one_ax):\n",
    "    score += 1/6\n",
    "print('===================================================')  \n",
    "\n",
    "if score > 0.1:\n",
    "    score -= 0.1\n",
    "    score = round(score, 2)\n",
    "\n",
    "print('Autograded Score')\n",
    "score\n",
    "### END HIDDEN TESTS"
   ]
  },
  {
   "cell_type": "markdown",
   "metadata": {
    "nbgrader": {
     "grade": false,
     "grade_id": "cell-aa236b18af4ae27e",
     "locked": true,
     "schema_version": 3,
     "solution": false,
     "task": false
    }
   },
   "source": [
    "## Task 3 - Interpret a visualization\n",
    "\n",
    "Run the cell below unchanged."
   ]
  },
  {
   "cell_type": "code",
   "execution_count": 7,
   "metadata": {
    "nbgrader": {
     "grade": false,
     "grade_id": "cell-cc2c8dc250c125e3",
     "locked": true,
     "schema_version": 3,
     "solution": false,
     "task": false
    }
   },
   "outputs": [
    {
     "data": {
      "image/png": "[encoded data removed]",
      "text/plain": [
       "<Figure size 1080x288 with 1 Axes>"
      ]
     },
     "metadata": {
      "needs_background": "light"
     },
     "output_type": "display_data"
    }
   ],
   "source": [
    "# Run this cell unchanged\n",
    "short_answer_fig, short_answer_ax = plt.subplots(figsize=(15,4))\n",
    "short_answer_ax.scatter(df['Special Attack'],df['Total Strength'], color='g', \n",
    "                        alpha=.6, edgecolor='black', linewidth=.5, s=100)\n",
    "short_answer_ax.set_title('Pokemon Special Attack Strength vs\\nPokemon Total Strength', fontsize=20)\n",
    "short_answer_ax.set_xlabel('Special Attack Strength', fontsize=15)\n",
    "short_answer_ax.set_ylabel('Total Strength', fontsize=15);"
   ]
  },
  {
   "cell_type": "markdown",
   "metadata": {},
   "source": [
    "### Please describe the above visualization.\n",
    "- What does the visualization tell us about the relationship between `Special Attack Strength` and `Total Strength`?\n",
    "- Would you describe the relationship as:\n",
    "    1. Weak\n",
    "    2. Moderate\n",
    "    3. Strong\n",
    "- Is this relationship surprising? Why or why not?"
   ]
  },
  {
   "cell_type": "markdown",
   "metadata": {
    "nbgrader": {
     "grade": true,
     "grade_id": "cell-5822928a269a4709",
     "locked": false,
     "points": 1.5,
     "schema_version": 3,
     "solution": true,
     "task": false
    }
   },
   "source": [
    "=== BEGIN MARK SCHEME ===\n",
    "\n",
    "The above visualization shows a **positive correlation** between `Special Attack Strength` and `Total Strength`. This means as Special Attack Strength increases, Total Strength also tends to increase. Given that both of these columns are measuring the strength of a pokemon, and that Special Attack Strength is a subset of Total Strength, it is **unsurprising** to find a **strong** correlation between these two variables.\n",
    "\n",
    "=== END MARK SCHEME ==="
   ]
  },
  {
   "cell_type": "markdown",
   "metadata": {},
   "source": [
    "## Task 4 - Import seaborn using the standard alias"
   ]
  },
  {
   "cell_type": "code",
   "execution_count": 8,
   "metadata": {
    "nbgrader": {
     "grade": true,
     "grade_id": "cell-88f34fb2644cebbf",
     "locked": false,
     "points": 0,
     "schema_version": 3,
     "solution": true,
     "task": false
    }
   },
   "outputs": [],
   "source": [
    "### BEGIN SOLUTION\n",
    "import seaborn as sns\n",
    "### END SOLUTION"
   ]
  },
  {
   "cell_type": "code",
   "execution_count": 9,
   "metadata": {
    "nbgrader": {
     "grade": true,
     "grade_id": "cell-c795214c0d7f3b50",
     "locked": true,
     "points": 1,
     "schema_version": 3,
     "solution": false,
     "task": false
    }
   },
   "outputs": [
    {
     "name": "stdout",
     "output_type": "stream",
     "text": [
      "=====================================================================\n",
      "✅ seaborn was imported into the notebook.\n",
      "✅ seaborn was imported with the appropriate alias.\n",
      "=====================================================================\n",
      "Autograded Score:\n"
     ]
    },
    {
     "data": {
      "text/plain": [
       "1.0"
      ]
     },
     "execution_count": 9,
     "metadata": {},
     "output_type": "execute_result"
    }
   ],
   "source": [
    "### BEGIN HIDDEN TESTS\n",
    "# PUT ALL WORK FOR THE ABOVE QUESTION ABOVE THIS CELL\n",
    "# THIS UNALTERABLE CELL CONTAINS HIDDEN TESTS\n",
    "print('=====================================================================')    \n",
    "score = 0.1\n",
    "# Checking for matplotlib\n",
    "import sys\n",
    "if \"seaborn\" in sys.modules:\n",
    "    score += .5\n",
    "    print('✅ seaborn was imported into the notebook.')\n",
    "else:\n",
    "    print('🚫 seaborn was not imported into the notebook.')\n",
    "    \n",
    "# Checking that it was imported with the appropriate alias\n",
    "try:\n",
    "    if type(sns.__version__) == str:\n",
    "        score += .5\n",
    "        print('✅ seaborn was imported with the appropriate alias.')\n",
    "    else:\n",
    "        print('🚫 seaborn was not imported with the appropriate alias.')\n",
    "except:\n",
    "    print('🚫 seaborn was not imported with the appropriate alias.')\n",
    "    \n",
    "if score > 0.1:\n",
    "    score -= 0.1\n",
    "print('=====================================================================')    \n",
    "print('Autograded Score:')    \n",
    "score\n",
    "### END HIDDEN TESTS"
   ]
  },
  {
   "cell_type": "markdown",
   "metadata": {},
   "source": [
    "## Task 5 - Use seaborn's `boxplot`\n",
    "\n",
    "In the cell below, using seaborn, create boxplots for every pokemon type, visualizing `Special Attack` along the y-axis.\n",
    "\n",
    "➡️ **name the figure variable `plot_two_fig`**\n",
    "\n",
    "➡️ **name the axis variable `plot_two_ax`.**\n",
    "\n",
    "This visualization should have the following customizations:\n",
    "1. A figsize of (15,4)\n",
    "2. A title set to `'Special Attack Strength by Type'`\n",
    "3. An xlabel set to `'Pokemon Type'`\n",
    "4. A ylabel set to `'Special Attack Strength'`\n",
    "\n",
    "Below is an example of what this visualization should look like:\n",
    "\n",
    "![](index_files/plot_two.png)"
   ]
  },
  {
   "cell_type": "code",
   "execution_count": 10,
   "metadata": {
    "nbgrader": {
     "grade": true,
     "grade_id": "cell-5e47f0b562810d2f",
     "locked": false,
     "points": 0,
     "schema_version": 3,
     "solution": true,
     "task": false
    }
   },
   "outputs": [
    {
     "data": {
      "image/png": "[encoded data removed]",
      "text/plain": [
       "<Figure size 1080x288 with 1 Axes>"
      ]
     },
     "metadata": {
      "needs_background": "light"
     },
     "output_type": "display_data"
    }
   ],
   "source": [
    "### BEGIN SOLUTION\n",
    "plot_two_fig, plot_two_ax = plt.subplots(figsize=(15,4))\n",
    "sns.boxplot(x='Type', y='Special Attack', data=df, ax=plot_two_ax)\n",
    "plot_two_ax.tick_params('x', rotation=45)\n",
    "plot_two_ax.set_title('Special Attack Strength by Type', fontsize=20)\n",
    "plot_two_ax.set_xlabel('Pokemon Type', fontsize=15)\n",
    "plot_two_ax.set_ylabel('Special Attack Strength', fontsize=15)\n",
    "plot_two_fig.tight_layout()\n",
    "plot_two_fig.savefig('index_files/plot_two.png')\n",
    "### END SOLUTION"
   ]
  },
  {
   "cell_type": "code",
   "execution_count": 11,
   "metadata": {
    "nbgrader": {
     "grade": true,
     "grade_id": "cell-b0b071d07a7be008",
     "locked": true,
     "points": 0.5,
     "schema_version": 3,
     "solution": false,
     "task": false
    }
   },
   "outputs": [
    {
     "name": "stdout",
     "output_type": "stream",
     "text": [
      "===================================================\n",
      "✅ Visualization width is set correctly\n",
      "✅ Visualization height is set correctly\n",
      "✅ title is set correctly\n",
      "✅ xlabel is set correctly\n",
      "✅ xlabel is set correctly\n",
      "===================================================\n",
      "Autograded Score\n"
     ]
    },
    {
     "data": {
      "text/plain": [
       "0.5"
      ]
     },
     "execution_count": 11,
     "metadata": {},
     "output_type": "execute_result"
    }
   ],
   "source": [
    "import matplotlib\n",
    "plot_two_ax_type = type(plot_two_ax)\n",
    "plot_two_fig_type = type(plot_two_fig)\n",
    "\n",
    "# plot_two_ax should be an ax from plt.subplots\n",
    "assert issubclass(plot_two_ax_type, matplotlib.axes.SubplotBase)\n",
    "# plot_two_fig should be a figure from plt.subplots\n",
    "assert issubclass(plot_two_fig_type, matplotlib.figure.Figure)\n",
    "# PUT ALL WORK FOR THE ABOVE QUESTION ABOVE THIS CELL\n",
    "# THIS UNALTERABLE CELL CONTAINS HIDDEN TESTS\n",
    "### BEGIN HIDDEN TESTS \n",
    "score = 0.1\n",
    "\n",
    "# Initialize the desired settings\n",
    "width = 15\n",
    "height = 4\n",
    "title = 'Special Attack Strength by Type'\n",
    "xlabel = 'Pokemon Type'\n",
    "ylabel = 'Special Attack Strength'\n",
    "\n",
    "\n",
    "# Tests\n",
    "def test_width(fig, width):\n",
    "    \"\"\"\n",
    "    Tests whether or not a matplotlib figure has a provided width\n",
    "    ––––––––––––––––––––––––––––––––––––––––––––––––––––––––––––––\n",
    "    ARGUMENTS:\n",
    "    \n",
    "    fig   -  Matplotlib figure object\n",
    "    width -  integer\n",
    "    –––––––––––––––––––––––––––––––––––––––––––––––––––––––––––––-\n",
    "    RETURNS:\n",
    "    \n",
    "    True if the figure width matches argument width.\n",
    "    None if figure width doesn't match argument width.\n",
    "    –––––––––––––––––––––––––––––––––––––––––––––––––––––––––––––-\n",
    "    \"\"\"\n",
    "    if fig.get_figwidth() == width:\n",
    "        print('✅ Visualization width is set correctly')\n",
    "        return True\n",
    "    else:\n",
    "        print(f'🚫 Visualization height = {fig.get_figwidth()}\\n   but should be {width}')\n",
    "        \n",
    "def test_height(fig, height):\n",
    "    \"\"\"\n",
    "    Tests whether or not a matplotlib figure has a provided height\n",
    "    ––––––––––––––––––––––––––––––––––––––––––––––––––––––––––––––\n",
    "    ARGUMENTS:\n",
    "    \n",
    "    fig    -  Matplotlib figure object\n",
    "    height -  integer\n",
    "    –––––––––––––––––––––––––––––––––––––––––––––––––––––––––––––-\n",
    "    RETURNS:\n",
    "    \n",
    "    True if the figure height matches argument height.\n",
    "    None if figure height doesn't match argument height.\n",
    "    –––––––––––––––––––––––––––––––––––––––––––––––––––––––––––––-\n",
    "    \"\"\"\n",
    "    if fig.get_figheight() == height:\n",
    "        print('✅ Visualization height is set correctly')\n",
    "        return True\n",
    "    else:\n",
    "        print(f'🚫 Visualization height = {fig.get_figheight()}\\n   but should be {height}')\n",
    "\n",
    "def test_title(ax, title):\n",
    "    \"\"\"\n",
    "    Tests whether or not a matplotlib ax object has a provided title\n",
    "    ––––––––––––––––––––––––––––––––––––––––––––––––––––––––––––––––\n",
    "    ARGUMENTS:\n",
    "    \n",
    "    ax    -  Matplotlib ax object\n",
    "    title -  string\n",
    "    ––––––––––––––––––––––––––––––––––––––––––––––––––––––––––––––––\n",
    "    RETURNS:\n",
    "    \n",
    "    True if the ax title matches argument title.\n",
    "    None if ax title doesn't match argument title.\n",
    "    ––––––––––––––––––––––––––––––––––––––––––––––––––––––––––––––––\n",
    "    \"\"\"\n",
    "    if ax.title.get_text() == title:\n",
    "        print('✅ title is set correctly')\n",
    "        return True\n",
    "    else:\n",
    "        print(f'🚫 title = \"{ax.title.get_text()}\"\\n   but should be \"{title}\"')\n",
    "\n",
    "def test_xlabel(ax, xlabel):\n",
    "    \"\"\"\n",
    "    Tests whether or not a matplotlib ax object has a provided xlabel\n",
    "    –––––––––––––––––––––––––––––––––––––––––––––––––––––––––––––––––\n",
    "    ARGUMENTS:\n",
    "    \n",
    "    ax     -  Matplotlib ax object\n",
    "    xlabel -  string\n",
    "    –––––––––––––––––––––––––––––––––––––––––––––––––––––––––––––––––\n",
    "    RETURNS:\n",
    "    \n",
    "    True if the ax xlabel matches argument xlabel.\n",
    "    None if ax xlabel doesn't match argument xlabel.\n",
    "    –––––––––––––––––––––––––––––––––––––––––––––––––––––––––––––––––\n",
    "    \"\"\"\n",
    "    if ax.get_xlabel() == xlabel:\n",
    "        print('✅ xlabel is set correctly')\n",
    "        return True\n",
    "    else:\n",
    "        print(f'🚫 xlabel = \"{ax.get_xlabel()}\"\\n   but should be \"{xlabel}\"')\n",
    "\n",
    "def test_ylabel(ax, ylabel):\n",
    "    \"\"\"\n",
    "    Tests whether or not a matplotlib ax object has a provided ylabel\n",
    "    –––––––––––––––––––––––––––––––––––––––––––––––––––––––––––––––––\n",
    "    ARGUMENTS:\n",
    "    \n",
    "    ax     -  Matplotlib ax object\n",
    "    ylabel -  string\n",
    "    –––––––––––––––––––––––––––––––––––––––––––––––––––––––––––––––––\n",
    "    RETURNS:\n",
    "    \n",
    "    True if the ax ylabel matches argument ylabel.\n",
    "    None if ax ylabel doesn't match argument ylabel.\n",
    "    –––––––––––––––––––––––––––––––––––––––––––––––––––––––––––––––––\n",
    "    \"\"\"\n",
    "    if ax.get_ylabel() == ylabel:\n",
    "        print('✅ xlabel is set correctly')\n",
    "        return True\n",
    "    else:\n",
    "        print(f'🚫 xlabel = \"{ax.get_ylabel()}\"\\n   but should be \"{ylabel}\"')  \n",
    "        \n",
    "    \n",
    "# Run tests\n",
    "print('===================================================')    \n",
    "if test_width(plot_two_fig, width):\n",
    "    score += .1\n",
    "if test_height(plot_two_fig, height):\n",
    "    score += .1\n",
    "if test_title(plot_two_ax, title):\n",
    "    score += .1\n",
    "if test_xlabel(plot_two_ax, xlabel):\n",
    "    score += .1\n",
    "if test_ylabel(plot_two_ax, ylabel):\n",
    "    score += .1\n",
    "print('===================================================')  \n",
    "\n",
    "if score > 0.1:\n",
    "    score -= 0.1\n",
    "    score = round(score, 2)\n",
    "\n",
    "print('Autograded Score')\n",
    "score\n",
    "### END HIDDEN TESTS"
   ]
  },
  {
   "cell_type": "markdown",
   "metadata": {
    "nbgrader": {
     "grade": false,
     "grade_id": "cell-76620b077b9fc35a",
     "locked": true,
     "schema_version": 3,
     "solution": false,
     "task": false
    }
   },
   "source": [
    "### Extra credit\n",
    " \n",
    "Based on the above visualization, which pokemon type would you say has the widest spread/highest variance?"
   ]
  },
  {
   "cell_type": "markdown",
   "metadata": {
    "nbgrader": {
     "grade": true,
     "grade_id": "cell-249a0b84e5a3217d",
     "locked": false,
     "points": 0,
     "schema_version": 3,
     "solution": true,
     "task": false
    }
   },
   "source": [
    "=== BEGIN MARK SCHEME ===\n",
    "\n",
    "Based on visual inspection, **Psychic** appears to have the widest spread. When calculating the variance, grouped by Type, **Dragon** is found to have the highest Special Attack variance.\n",
    "\n",
    "=== END MARK SCHEME ==="
   ]
  },
  {
   "cell_type": "markdown",
   "metadata": {
    "nbgrader": {
     "grade": false,
     "grade_id": "cell-8aeb2adb7e647d4e",
     "locked": true,
     "schema_version": 3,
     "solution": false,
     "task": false
    }
   },
   "source": [
    "# Before submission, make sure you restart the kernel and run all of the cells to make sure that everything works in order!"
   ]
  }
 ],
 "metadata": {
  "celltoolbar": "Create Assignment",
  "kernelspec": {
   "display_name": "Python 3",
   "language": "python",
   "name": "python3"
  },
  "language_info": {
   "codemirror_mode": {
    "name": "ipython",
    "version": 3
   },
   "file_extension": ".py",
   "mimetype": "text/x-python",
   "name": "python",
   "nbconvert_exporter": "python",
   "pygments_lexer": "ipython3",
   "version": "3.8.5"
  }
 },
 "nbformat": 4,
 "nbformat_minor": 4
}
